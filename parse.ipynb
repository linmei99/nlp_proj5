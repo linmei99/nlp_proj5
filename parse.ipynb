{
 "cells": [
  {
   "cell_type": "code",
   "execution_count": 1,
   "id": "cfa00d6a",
   "metadata": {},
   "outputs": [],
   "source": [
    "import pandas as pd\n",
    "import numpy as np\n",
    "import pickle\n",
    "import re\n",
    "import string\n",
    "from sklearn.feature_extraction.text import CountVectorizer, TfidfVectorizer\n",
    "from sklearn.decomposition import TruncatedSVD\n",
    "from sklearn.decomposition import NMF\n",
    "from sklearn.metrics.pairwise import cosine_similarity"
   ]
  },
  {
   "cell_type": "code",
   "execution_count": 10,
   "id": "8e2e3b25",
   "metadata": {},
   "outputs": [
    {
     "name": "stderr",
     "output_type": "stream",
     "text": [
      "2021-08-18 07:33:23.786745: W tensorflow/stream_executor/platform/default/dso_loader.cc:64] Could not load dynamic library 'libcudart.so.11.0'; dlerror: libcudart.so.11.0: cannot open shared object file: No such file or directory\n",
      "2021-08-18 07:33:23.786813: I tensorflow/stream_executor/cuda/cudart_stub.cc:29] Ignore above cudart dlerror if you do not have a GPU set up on your machine.\n"
     ]
    }
   ],
   "source": [
    "import spacy\n",
    "nlp = spacy.load('en_core_web_sm')"
   ]
  },
  {
   "cell_type": "code",
   "execution_count": 7,
   "id": "ccb0590c",
   "metadata": {
    "scrolled": true
   },
   "outputs": [
    {
     "ename": "KeyError",
     "evalue": "-1",
     "output_type": "error",
     "traceback": [
      "\u001b[0;31m---------------------------------------------------------------------------\u001b[0m",
      "\u001b[0;31mValueError\u001b[0m                                Traceback (most recent call last)",
      "\u001b[0;32m~/anaconda3/envs/metis/lib/python3.8/site-packages/pandas/core/indexes/range.py\u001b[0m in \u001b[0;36mget_loc\u001b[0;34m(self, key, method, tolerance)\u001b[0m\n\u001b[1;32m    384\u001b[0m                 \u001b[0;32mtry\u001b[0m\u001b[0;34m:\u001b[0m\u001b[0;34m\u001b[0m\u001b[0;34m\u001b[0m\u001b[0m\n\u001b[0;32m--> 385\u001b[0;31m                     \u001b[0;32mreturn\u001b[0m \u001b[0mself\u001b[0m\u001b[0;34m.\u001b[0m\u001b[0m_range\u001b[0m\u001b[0;34m.\u001b[0m\u001b[0mindex\u001b[0m\u001b[0;34m(\u001b[0m\u001b[0mnew_key\u001b[0m\u001b[0;34m)\u001b[0m\u001b[0;34m\u001b[0m\u001b[0;34m\u001b[0m\u001b[0m\n\u001b[0m\u001b[1;32m    386\u001b[0m                 \u001b[0;32mexcept\u001b[0m \u001b[0mValueError\u001b[0m \u001b[0;32mas\u001b[0m \u001b[0merr\u001b[0m\u001b[0;34m:\u001b[0m\u001b[0;34m\u001b[0m\u001b[0;34m\u001b[0m\u001b[0m\n",
      "\u001b[0;31mValueError\u001b[0m: -1 is not in range",
      "\nThe above exception was the direct cause of the following exception:\n",
      "\u001b[0;31mKeyError\u001b[0m                                  Traceback (most recent call last)",
      "\u001b[0;32m/tmp/ipykernel_3783/179195098.py\u001b[0m in \u001b[0;36m<module>\u001b[0;34m\u001b[0m\n\u001b[1;32m      9\u001b[0m              'verified_purchase':str,'review_headline':str,'review_body':str,'review_date':str},\n\u001b[1;32m     10\u001b[0m                        sep='\\t')\n\u001b[0;32m---> 11\u001b[0;31m \u001b[0mcolumns\u001b[0m\u001b[0;34m=\u001b[0m\u001b[0mreview_df\u001b[0m\u001b[0;34m.\u001b[0m\u001b[0mloc\u001b[0m\u001b[0;34m[\u001b[0m\u001b[0;34m-\u001b[0m\u001b[0;36m1\u001b[0m\u001b[0;34m]\u001b[0m\u001b[0;34m\u001b[0m\u001b[0;34m\u001b[0m\u001b[0m\n\u001b[0m\u001b[1;32m     12\u001b[0m \u001b[0;31m#review_df.drop(columns=['marketplace','product_category'], inplace=True)\u001b[0m\u001b[0;34m\u001b[0m\u001b[0;34m\u001b[0m\u001b[0;34m\u001b[0m\u001b[0m\n\u001b[1;32m     13\u001b[0m \u001b[0mreview_df\u001b[0m\u001b[0;34m.\u001b[0m\u001b[0mdrop\u001b[0m\u001b[0;34m(\u001b[0m\u001b[0mindex\u001b[0m\u001b[0;34m=\u001b[0m\u001b[0;34m'product_id'\u001b[0m\u001b[0;34m,\u001b[0m\u001b[0minplace\u001b[0m\u001b[0;34m=\u001b[0m\u001b[0;32mTrue\u001b[0m\u001b[0;34m)\u001b[0m\u001b[0;34m\u001b[0m\u001b[0;34m\u001b[0m\u001b[0m\n",
      "\u001b[0;32m~/anaconda3/envs/metis/lib/python3.8/site-packages/pandas/core/indexing.py\u001b[0m in \u001b[0;36m__getitem__\u001b[0;34m(self, key)\u001b[0m\n\u001b[1;32m    929\u001b[0m \u001b[0;34m\u001b[0m\u001b[0m\n\u001b[1;32m    930\u001b[0m             \u001b[0mmaybe_callable\u001b[0m \u001b[0;34m=\u001b[0m \u001b[0mcom\u001b[0m\u001b[0;34m.\u001b[0m\u001b[0mapply_if_callable\u001b[0m\u001b[0;34m(\u001b[0m\u001b[0mkey\u001b[0m\u001b[0;34m,\u001b[0m \u001b[0mself\u001b[0m\u001b[0;34m.\u001b[0m\u001b[0mobj\u001b[0m\u001b[0;34m)\u001b[0m\u001b[0;34m\u001b[0m\u001b[0;34m\u001b[0m\u001b[0m\n\u001b[0;32m--> 931\u001b[0;31m             \u001b[0;32mreturn\u001b[0m \u001b[0mself\u001b[0m\u001b[0;34m.\u001b[0m\u001b[0m_getitem_axis\u001b[0m\u001b[0;34m(\u001b[0m\u001b[0mmaybe_callable\u001b[0m\u001b[0;34m,\u001b[0m \u001b[0maxis\u001b[0m\u001b[0;34m=\u001b[0m\u001b[0maxis\u001b[0m\u001b[0;34m)\u001b[0m\u001b[0;34m\u001b[0m\u001b[0;34m\u001b[0m\u001b[0m\n\u001b[0m\u001b[1;32m    932\u001b[0m \u001b[0;34m\u001b[0m\u001b[0m\n\u001b[1;32m    933\u001b[0m     \u001b[0;32mdef\u001b[0m \u001b[0m_is_scalar_access\u001b[0m\u001b[0;34m(\u001b[0m\u001b[0mself\u001b[0m\u001b[0;34m,\u001b[0m \u001b[0mkey\u001b[0m\u001b[0;34m:\u001b[0m \u001b[0mtuple\u001b[0m\u001b[0;34m)\u001b[0m\u001b[0;34m:\u001b[0m\u001b[0;34m\u001b[0m\u001b[0;34m\u001b[0m\u001b[0m\n",
      "\u001b[0;32m~/anaconda3/envs/metis/lib/python3.8/site-packages/pandas/core/indexing.py\u001b[0m in \u001b[0;36m_getitem_axis\u001b[0;34m(self, key, axis)\u001b[0m\n\u001b[1;32m   1162\u001b[0m         \u001b[0;31m# fall thru to straight lookup\u001b[0m\u001b[0;34m\u001b[0m\u001b[0;34m\u001b[0m\u001b[0;34m\u001b[0m\u001b[0m\n\u001b[1;32m   1163\u001b[0m         \u001b[0mself\u001b[0m\u001b[0;34m.\u001b[0m\u001b[0m_validate_key\u001b[0m\u001b[0;34m(\u001b[0m\u001b[0mkey\u001b[0m\u001b[0;34m,\u001b[0m \u001b[0maxis\u001b[0m\u001b[0;34m)\u001b[0m\u001b[0;34m\u001b[0m\u001b[0;34m\u001b[0m\u001b[0m\n\u001b[0;32m-> 1164\u001b[0;31m         \u001b[0;32mreturn\u001b[0m \u001b[0mself\u001b[0m\u001b[0;34m.\u001b[0m\u001b[0m_get_label\u001b[0m\u001b[0;34m(\u001b[0m\u001b[0mkey\u001b[0m\u001b[0;34m,\u001b[0m \u001b[0maxis\u001b[0m\u001b[0;34m=\u001b[0m\u001b[0maxis\u001b[0m\u001b[0;34m)\u001b[0m\u001b[0;34m\u001b[0m\u001b[0;34m\u001b[0m\u001b[0m\n\u001b[0m\u001b[1;32m   1165\u001b[0m \u001b[0;34m\u001b[0m\u001b[0m\n\u001b[1;32m   1166\u001b[0m     \u001b[0;32mdef\u001b[0m \u001b[0m_get_slice_axis\u001b[0m\u001b[0;34m(\u001b[0m\u001b[0mself\u001b[0m\u001b[0;34m,\u001b[0m \u001b[0mslice_obj\u001b[0m\u001b[0;34m:\u001b[0m \u001b[0mslice\u001b[0m\u001b[0;34m,\u001b[0m \u001b[0maxis\u001b[0m\u001b[0;34m:\u001b[0m \u001b[0mint\u001b[0m\u001b[0;34m)\u001b[0m\u001b[0;34m:\u001b[0m\u001b[0;34m\u001b[0m\u001b[0;34m\u001b[0m\u001b[0m\n",
      "\u001b[0;32m~/anaconda3/envs/metis/lib/python3.8/site-packages/pandas/core/indexing.py\u001b[0m in \u001b[0;36m_get_label\u001b[0;34m(self, label, axis)\u001b[0m\n\u001b[1;32m   1111\u001b[0m     \u001b[0;32mdef\u001b[0m \u001b[0m_get_label\u001b[0m\u001b[0;34m(\u001b[0m\u001b[0mself\u001b[0m\u001b[0;34m,\u001b[0m \u001b[0mlabel\u001b[0m\u001b[0;34m,\u001b[0m \u001b[0maxis\u001b[0m\u001b[0;34m:\u001b[0m \u001b[0mint\u001b[0m\u001b[0;34m)\u001b[0m\u001b[0;34m:\u001b[0m\u001b[0;34m\u001b[0m\u001b[0;34m\u001b[0m\u001b[0m\n\u001b[1;32m   1112\u001b[0m         \u001b[0;31m# GH#5667 this will fail if the label is not present in the axis.\u001b[0m\u001b[0;34m\u001b[0m\u001b[0;34m\u001b[0m\u001b[0;34m\u001b[0m\u001b[0m\n\u001b[0;32m-> 1113\u001b[0;31m         \u001b[0;32mreturn\u001b[0m \u001b[0mself\u001b[0m\u001b[0;34m.\u001b[0m\u001b[0mobj\u001b[0m\u001b[0;34m.\u001b[0m\u001b[0mxs\u001b[0m\u001b[0;34m(\u001b[0m\u001b[0mlabel\u001b[0m\u001b[0;34m,\u001b[0m \u001b[0maxis\u001b[0m\u001b[0;34m=\u001b[0m\u001b[0maxis\u001b[0m\u001b[0;34m)\u001b[0m\u001b[0;34m\u001b[0m\u001b[0;34m\u001b[0m\u001b[0m\n\u001b[0m\u001b[1;32m   1114\u001b[0m \u001b[0;34m\u001b[0m\u001b[0m\n\u001b[1;32m   1115\u001b[0m     \u001b[0;32mdef\u001b[0m \u001b[0m_handle_lowerdim_multi_index_axis0\u001b[0m\u001b[0;34m(\u001b[0m\u001b[0mself\u001b[0m\u001b[0;34m,\u001b[0m \u001b[0mtup\u001b[0m\u001b[0;34m:\u001b[0m \u001b[0mtuple\u001b[0m\u001b[0;34m)\u001b[0m\u001b[0;34m:\u001b[0m\u001b[0;34m\u001b[0m\u001b[0;34m\u001b[0m\u001b[0m\n",
      "\u001b[0;32m~/anaconda3/envs/metis/lib/python3.8/site-packages/pandas/core/generic.py\u001b[0m in \u001b[0;36mxs\u001b[0;34m(self, key, axis, level, drop_level)\u001b[0m\n\u001b[1;32m   3771\u001b[0m                 \u001b[0;32mraise\u001b[0m \u001b[0mTypeError\u001b[0m\u001b[0;34m(\u001b[0m\u001b[0;34mf\"Expected label or tuple of labels, got {key}\"\u001b[0m\u001b[0;34m)\u001b[0m \u001b[0;32mfrom\u001b[0m \u001b[0me\u001b[0m\u001b[0;34m\u001b[0m\u001b[0;34m\u001b[0m\u001b[0m\n\u001b[1;32m   3772\u001b[0m         \u001b[0;32melse\u001b[0m\u001b[0;34m:\u001b[0m\u001b[0;34m\u001b[0m\u001b[0;34m\u001b[0m\u001b[0m\n\u001b[0;32m-> 3773\u001b[0;31m             \u001b[0mloc\u001b[0m \u001b[0;34m=\u001b[0m \u001b[0mindex\u001b[0m\u001b[0;34m.\u001b[0m\u001b[0mget_loc\u001b[0m\u001b[0;34m(\u001b[0m\u001b[0mkey\u001b[0m\u001b[0;34m)\u001b[0m\u001b[0;34m\u001b[0m\u001b[0;34m\u001b[0m\u001b[0m\n\u001b[0m\u001b[1;32m   3774\u001b[0m \u001b[0;34m\u001b[0m\u001b[0m\n\u001b[1;32m   3775\u001b[0m             \u001b[0;32mif\u001b[0m \u001b[0misinstance\u001b[0m\u001b[0;34m(\u001b[0m\u001b[0mloc\u001b[0m\u001b[0;34m,\u001b[0m \u001b[0mnp\u001b[0m\u001b[0;34m.\u001b[0m\u001b[0mndarray\u001b[0m\u001b[0;34m)\u001b[0m\u001b[0;34m:\u001b[0m\u001b[0;34m\u001b[0m\u001b[0;34m\u001b[0m\u001b[0m\n",
      "\u001b[0;32m~/anaconda3/envs/metis/lib/python3.8/site-packages/pandas/core/indexes/range.py\u001b[0m in \u001b[0;36mget_loc\u001b[0;34m(self, key, method, tolerance)\u001b[0m\n\u001b[1;32m    385\u001b[0m                     \u001b[0;32mreturn\u001b[0m \u001b[0mself\u001b[0m\u001b[0;34m.\u001b[0m\u001b[0m_range\u001b[0m\u001b[0;34m.\u001b[0m\u001b[0mindex\u001b[0m\u001b[0;34m(\u001b[0m\u001b[0mnew_key\u001b[0m\u001b[0;34m)\u001b[0m\u001b[0;34m\u001b[0m\u001b[0;34m\u001b[0m\u001b[0m\n\u001b[1;32m    386\u001b[0m                 \u001b[0;32mexcept\u001b[0m \u001b[0mValueError\u001b[0m \u001b[0;32mas\u001b[0m \u001b[0merr\u001b[0m\u001b[0;34m:\u001b[0m\u001b[0;34m\u001b[0m\u001b[0;34m\u001b[0m\u001b[0m\n\u001b[0;32m--> 387\u001b[0;31m                     \u001b[0;32mraise\u001b[0m \u001b[0mKeyError\u001b[0m\u001b[0;34m(\u001b[0m\u001b[0mkey\u001b[0m\u001b[0;34m)\u001b[0m \u001b[0;32mfrom\u001b[0m \u001b[0merr\u001b[0m\u001b[0;34m\u001b[0m\u001b[0;34m\u001b[0m\u001b[0m\n\u001b[0m\u001b[1;32m    388\u001b[0m             \u001b[0;32mraise\u001b[0m \u001b[0mKeyError\u001b[0m\u001b[0;34m(\u001b[0m\u001b[0mkey\u001b[0m\u001b[0;34m)\u001b[0m\u001b[0;34m\u001b[0m\u001b[0;34m\u001b[0m\u001b[0m\n\u001b[1;32m    389\u001b[0m         \u001b[0;32mreturn\u001b[0m \u001b[0msuper\u001b[0m\u001b[0;34m(\u001b[0m\u001b[0;34m)\u001b[0m\u001b[0;34m.\u001b[0m\u001b[0mget_loc\u001b[0m\u001b[0;34m(\u001b[0m\u001b[0mkey\u001b[0m\u001b[0;34m,\u001b[0m \u001b[0mmethod\u001b[0m\u001b[0;34m=\u001b[0m\u001b[0mmethod\u001b[0m\u001b[0;34m,\u001b[0m \u001b[0mtolerance\u001b[0m\u001b[0;34m=\u001b[0m\u001b[0mtolerance\u001b[0m\u001b[0;34m)\u001b[0m\u001b[0;34m\u001b[0m\u001b[0;34m\u001b[0m\u001b[0m\n",
      "\u001b[0;31mKeyError\u001b[0m: -1"
     ]
    }
   ],
   "source": [
    "tab_columns=['marketplace','customer_id','review_id','product_id','product_parent',\n",
    "        'product_title','product_category','star_rating','helpful_votes','total_votes',\n",
    "        'vine','verified_purchase','review_headline','review_body','review_date']\n",
    "\n",
    "review_df= pd.read_csv('amazon_reviews_us_Software_v1_01.tsv',names=tab_columns, \n",
    "        dtype={'marketplace':str,'customer_id':str,'review_id':str,'product_id':str,\n",
    "             'product_parent':str, 'product_title':str, 'product_category':str,\n",
    "             'star_rating':str,'helpful_votes':str,'total_votes':str, 'vine':str,\n",
    "             'verified_purchase':str,'review_headline':str,'review_body':str,'review_date':str},\n",
    "                       sep='\\t')\n",
    "columns=review_df.iloc[-1]\n",
    "#review_df.drop(columns=['marketplace','product_category'], inplace=True)\n",
    "#review_df.drop(index='product_id',inplace=True)\n",
    "review_df.dropna(inplace=True,subset=['review_body'])\n",
    "review_df.set_index('product_id',inplace=True)\n",
    "review_df.sort_index(inplace=True)\n"
   ]
  },
  {
   "cell_type": "code",
   "execution_count": 17,
   "id": "f304dbf5",
   "metadata": {},
   "outputs": [
    {
     "data": {
      "text/plain": [
       "marketplace                marketplace\n",
       "customer_id                customer_id\n",
       "review_id                    review_id\n",
       "product_parent          product_parent\n",
       "product_title            product_title\n",
       "product_category      product_category\n",
       "star_rating                star_rating\n",
       "helpful_votes            helpful_votes\n",
       "total_votes                total_votes\n",
       "vine                              vine\n",
       "verified_purchase    verified_purchase\n",
       "review_headline        review_headline\n",
       "review_body                review_body\n",
       "review_date                review_date\n",
       "Name: product_id, dtype: object"
      ]
     },
     "execution_count": 17,
     "metadata": {},
     "output_type": "execute_result"
    }
   ],
   "source": [
    "columns=review_df.iloc[-1]\n",
    "columns"
   ]
  },
  {
   "cell_type": "code",
   "execution_count": 12,
   "id": "38b03299",
   "metadata": {},
   "outputs": [
    {
     "data": {
      "text/html": [
       "<div>\n",
       "<style scoped>\n",
       "    .dataframe tbody tr th:only-of-type {\n",
       "        vertical-align: middle;\n",
       "    }\n",
       "\n",
       "    .dataframe tbody tr th {\n",
       "        vertical-align: top;\n",
       "    }\n",
       "\n",
       "    .dataframe thead th {\n",
       "        text-align: right;\n",
       "    }\n",
       "</style>\n",
       "<table border=\"1\" class=\"dataframe\">\n",
       "  <thead>\n",
       "    <tr style=\"text-align: right;\">\n",
       "      <th></th>\n",
       "      <th>marketplace</th>\n",
       "      <th>customer_id</th>\n",
       "      <th>review_id</th>\n",
       "      <th>product_parent</th>\n",
       "      <th>product_title</th>\n",
       "      <th>product_category</th>\n",
       "      <th>star_rating</th>\n",
       "      <th>helpful_votes</th>\n",
       "      <th>total_votes</th>\n",
       "      <th>vine</th>\n",
       "      <th>verified_purchase</th>\n",
       "      <th>review_headline</th>\n",
       "      <th>review_body</th>\n",
       "      <th>review_date</th>\n",
       "    </tr>\n",
       "    <tr>\n",
       "      <th>product_id</th>\n",
       "      <th></th>\n",
       "      <th></th>\n",
       "      <th></th>\n",
       "      <th></th>\n",
       "      <th></th>\n",
       "      <th></th>\n",
       "      <th></th>\n",
       "      <th></th>\n",
       "      <th></th>\n",
       "      <th></th>\n",
       "      <th></th>\n",
       "      <th></th>\n",
       "      <th></th>\n",
       "      <th></th>\n",
       "    </tr>\n",
       "  </thead>\n",
       "  <tbody>\n",
       "    <tr>\n",
       "      <th>0028650506</th>\n",
       "      <td>US</td>\n",
       "      <td>39107575</td>\n",
       "      <td>RING4VEIUW4Y1</td>\n",
       "      <td>708318734</td>\n",
       "      <td>BLACK MUSIC OF TWO WORLDS CD</td>\n",
       "      <td>Software</td>\n",
       "      <td>1</td>\n",
       "      <td>0</td>\n",
       "      <td>0</td>\n",
       "      <td>N</td>\n",
       "      <td>N</td>\n",
       "      <td>teachers and students BEWARE !!!</td>\n",
       "      <td>I have enjoyed and admired John Storm Robert's...</td>\n",
       "      <td>2004-10-11</td>\n",
       "    </tr>\n",
       "    <tr>\n",
       "      <th>0030331927</th>\n",
       "      <td>US</td>\n",
       "      <td>33712978</td>\n",
       "      <td>R38LNO9CFVPKQS</td>\n",
       "      <td>524450836</td>\n",
       "      <td>INTERMEDIATE FIN MGMT 7E</td>\n",
       "      <td>Software</td>\n",
       "      <td>5</td>\n",
       "      <td>3</td>\n",
       "      <td>15</td>\n",
       "      <td>N</td>\n",
       "      <td>N</td>\n",
       "      <td>one of the best sources of corporate finance</td>\n",
       "      <td>one of the best sources of corporate finance</td>\n",
       "      <td>2004-03-01</td>\n",
       "    </tr>\n",
       "    <tr>\n",
       "      <th>0071480935</th>\n",
       "      <td>US</td>\n",
       "      <td>12696548</td>\n",
       "      <td>RB2EAMTUSLP1V</td>\n",
       "      <td>64378012</td>\n",
       "      <td>Sing, Watch, &amp;amp; Learn Spanish (DVD + Guide)...</td>\n",
       "      <td>Software</td>\n",
       "      <td>5</td>\n",
       "      <td>2</td>\n",
       "      <td>2</td>\n",
       "      <td>N</td>\n",
       "      <td>Y</td>\n",
       "      <td>Grown ups even like it!</td>\n",
       "      <td>My husband and I are in our 50's, are beginnin...</td>\n",
       "      <td>2011-08-06</td>\n",
       "    </tr>\n",
       "    <tr>\n",
       "      <th>0071480935</th>\n",
       "      <td>US</td>\n",
       "      <td>33655878</td>\n",
       "      <td>R2IE0O9FYKMKL</td>\n",
       "      <td>64378012</td>\n",
       "      <td>Sing, Watch, &amp;amp; Learn Spanish (DVD + Guide)...</td>\n",
       "      <td>Software</td>\n",
       "      <td>5</td>\n",
       "      <td>3</td>\n",
       "      <td>3</td>\n",
       "      <td>N</td>\n",
       "      <td>N</td>\n",
       "      <td>Great For Toddlers</td>\n",
       "      <td>I bought this video for my 20-month old grandd...</td>\n",
       "      <td>2008-07-12</td>\n",
       "    </tr>\n",
       "    <tr>\n",
       "      <th>0071480935</th>\n",
       "      <td>US</td>\n",
       "      <td>4138699</td>\n",
       "      <td>R131XDRSFWXBGA</td>\n",
       "      <td>64378012</td>\n",
       "      <td>Sing, Watch, &amp;amp; Learn Spanish (DVD + Guide)...</td>\n",
       "      <td>Software</td>\n",
       "      <td>5</td>\n",
       "      <td>0</td>\n",
       "      <td>0</td>\n",
       "      <td>N</td>\n",
       "      <td>Y</td>\n",
       "      <td>This is one of my favorite kids spanish learni...</td>\n",
       "      <td>This is great immersion type learning for the ...</td>\n",
       "      <td>2014-01-03</td>\n",
       "    </tr>\n",
       "    <tr>\n",
       "      <th>...</th>\n",
       "      <td>...</td>\n",
       "      <td>...</td>\n",
       "      <td>...</td>\n",
       "      <td>...</td>\n",
       "      <td>...</td>\n",
       "      <td>...</td>\n",
       "      <td>...</td>\n",
       "      <td>...</td>\n",
       "      <td>...</td>\n",
       "      <td>...</td>\n",
       "      <td>...</td>\n",
       "      <td>...</td>\n",
       "      <td>...</td>\n",
       "      <td>...</td>\n",
       "    </tr>\n",
       "    <tr>\n",
       "      <th>B013ETQE9Y</th>\n",
       "      <td>US</td>\n",
       "      <td>107366</td>\n",
       "      <td>R18VRLNW9D9UAM</td>\n",
       "      <td>578141346</td>\n",
       "      <td>Microsoft Office Home &amp; Student 2013 32/64-bit...</td>\n",
       "      <td>Software</td>\n",
       "      <td>5</td>\n",
       "      <td>0</td>\n",
       "      <td>1</td>\n",
       "      <td>N</td>\n",
       "      <td>N</td>\n",
       "      <td>Good product as always from microsoft</td>\n",
       "      <td>Good product as always from microsoft. A littl...</td>\n",
       "      <td>2015-08-27</td>\n",
       "    </tr>\n",
       "    <tr>\n",
       "      <th>B013KEZ598</th>\n",
       "      <td>US</td>\n",
       "      <td>33974036</td>\n",
       "      <td>R37543ALZA2XRA</td>\n",
       "      <td>28034061</td>\n",
       "      <td>Windows Xp Professional 32-bit New Reinstall O...</td>\n",
       "      <td>Software</td>\n",
       "      <td>1</td>\n",
       "      <td>0</td>\n",
       "      <td>0</td>\n",
       "      <td>N</td>\n",
       "      <td>N</td>\n",
       "      <td>Fake Pirated Microsoft Software</td>\n",
       "      <td>Fake pirated software. Microsoft legit softwar...</td>\n",
       "      <td>2015-08-23</td>\n",
       "    </tr>\n",
       "    <tr>\n",
       "      <th>B014E4FBCO</th>\n",
       "      <td>US</td>\n",
       "      <td>31473739</td>\n",
       "      <td>RR8BFVK4UA96S</td>\n",
       "      <td>9681631</td>\n",
       "      <td>Windows 7 Professional Sp1 32bit DVD 1 Pack wi...</td>\n",
       "      <td>Software</td>\n",
       "      <td>5</td>\n",
       "      <td>2</td>\n",
       "      <td>2</td>\n",
       "      <td>N</td>\n",
       "      <td>N</td>\n",
       "      <td>Five Stars</td>\n",
       "      <td>Excellent worked and activated</td>\n",
       "      <td>2015-08-26</td>\n",
       "    </tr>\n",
       "    <tr>\n",
       "      <th>B014E57GF8</th>\n",
       "      <td>US</td>\n",
       "      <td>31473739</td>\n",
       "      <td>R211FK7MPDQSH0</td>\n",
       "      <td>153055454</td>\n",
       "      <td>Adobe Acrobat X Standard</td>\n",
       "      <td>Software</td>\n",
       "      <td>5</td>\n",
       "      <td>0</td>\n",
       "      <td>1</td>\n",
       "      <td>N</td>\n",
       "      <td>N</td>\n",
       "      <td>Five Stars</td>\n",
       "      <td>Thank you DVD and activation code work great</td>\n",
       "      <td>2015-08-26</td>\n",
       "    </tr>\n",
       "    <tr>\n",
       "      <th>product_id</th>\n",
       "      <td>marketplace</td>\n",
       "      <td>customer_id</td>\n",
       "      <td>review_id</td>\n",
       "      <td>product_parent</td>\n",
       "      <td>product_title</td>\n",
       "      <td>product_category</td>\n",
       "      <td>star_rating</td>\n",
       "      <td>helpful_votes</td>\n",
       "      <td>total_votes</td>\n",
       "      <td>vine</td>\n",
       "      <td>verified_purchase</td>\n",
       "      <td>review_headline</td>\n",
       "      <td>review_body</td>\n",
       "      <td>review_date</td>\n",
       "    </tr>\n",
       "  </tbody>\n",
       "</table>\n",
       "<p>341299 rows × 14 columns</p>\n",
       "</div>"
      ],
      "text/plain": [
       "            marketplace  customer_id       review_id  product_parent  \\\n",
       "product_id                                                             \n",
       "0028650506           US     39107575   RING4VEIUW4Y1       708318734   \n",
       "0030331927           US     33712978  R38LNO9CFVPKQS       524450836   \n",
       "0071480935           US     12696548   RB2EAMTUSLP1V        64378012   \n",
       "0071480935           US     33655878   R2IE0O9FYKMKL        64378012   \n",
       "0071480935           US      4138699  R131XDRSFWXBGA        64378012   \n",
       "...                 ...          ...             ...             ...   \n",
       "B013ETQE9Y           US       107366  R18VRLNW9D9UAM       578141346   \n",
       "B013KEZ598           US     33974036  R37543ALZA2XRA        28034061   \n",
       "B014E4FBCO           US     31473739   RR8BFVK4UA96S         9681631   \n",
       "B014E57GF8           US     31473739  R211FK7MPDQSH0       153055454   \n",
       "product_id  marketplace  customer_id       review_id  product_parent   \n",
       "\n",
       "                                                product_title  \\\n",
       "product_id                                                      \n",
       "0028650506                       BLACK MUSIC OF TWO WORLDS CD   \n",
       "0030331927                           INTERMEDIATE FIN MGMT 7E   \n",
       "0071480935  Sing, Watch, &amp; Learn Spanish (DVD + Guide)...   \n",
       "0071480935  Sing, Watch, &amp; Learn Spanish (DVD + Guide)...   \n",
       "0071480935  Sing, Watch, &amp; Learn Spanish (DVD + Guide)...   \n",
       "...                                                       ...   \n",
       "B013ETQE9Y  Microsoft Office Home & Student 2013 32/64-bit...   \n",
       "B013KEZ598  Windows Xp Professional 32-bit New Reinstall O...   \n",
       "B014E4FBCO  Windows 7 Professional Sp1 32bit DVD 1 Pack wi...   \n",
       "B014E57GF8                           Adobe Acrobat X Standard   \n",
       "product_id                                      product_title   \n",
       "\n",
       "            product_category  star_rating  helpful_votes  total_votes  vine  \\\n",
       "product_id                                                                    \n",
       "0028650506          Software            1              0            0     N   \n",
       "0030331927          Software            5              3           15     N   \n",
       "0071480935          Software            5              2            2     N   \n",
       "0071480935          Software            5              3            3     N   \n",
       "0071480935          Software            5              0            0     N   \n",
       "...                      ...          ...            ...          ...   ...   \n",
       "B013ETQE9Y          Software            5              0            1     N   \n",
       "B013KEZ598          Software            1              0            0     N   \n",
       "B014E4FBCO          Software            5              2            2     N   \n",
       "B014E57GF8          Software            5              0            1     N   \n",
       "product_id  product_category  star_rating  helpful_votes  total_votes  vine   \n",
       "\n",
       "            verified_purchase  \\\n",
       "product_id                      \n",
       "0028650506                  N   \n",
       "0030331927                  N   \n",
       "0071480935                  Y   \n",
       "0071480935                  N   \n",
       "0071480935                  Y   \n",
       "...                       ...   \n",
       "B013ETQE9Y                  N   \n",
       "B013KEZ598                  N   \n",
       "B014E4FBCO                  N   \n",
       "B014E57GF8                  N   \n",
       "product_id  verified_purchase   \n",
       "\n",
       "                                              review_headline  \\\n",
       "product_id                                                      \n",
       "0028650506                   teachers and students BEWARE !!!   \n",
       "0030331927       one of the best sources of corporate finance   \n",
       "0071480935                            Grown ups even like it!   \n",
       "0071480935                                 Great For Toddlers   \n",
       "0071480935  This is one of my favorite kids spanish learni...   \n",
       "...                                                       ...   \n",
       "B013ETQE9Y              Good product as always from microsoft   \n",
       "B013KEZ598                    Fake Pirated Microsoft Software   \n",
       "B014E4FBCO                                         Five Stars   \n",
       "B014E57GF8                                         Five Stars   \n",
       "product_id                                    review_headline   \n",
       "\n",
       "                                                  review_body  review_date  \n",
       "product_id                                                                  \n",
       "0028650506  I have enjoyed and admired John Storm Robert's...   2004-10-11  \n",
       "0030331927       one of the best sources of corporate finance   2004-03-01  \n",
       "0071480935  My husband and I are in our 50's, are beginnin...   2011-08-06  \n",
       "0071480935  I bought this video for my 20-month old grandd...   2008-07-12  \n",
       "0071480935  This is great immersion type learning for the ...   2014-01-03  \n",
       "...                                                       ...          ...  \n",
       "B013ETQE9Y  Good product as always from microsoft. A littl...   2015-08-27  \n",
       "B013KEZ598  Fake pirated software. Microsoft legit softwar...   2015-08-23  \n",
       "B014E4FBCO                     Excellent worked and activated   2015-08-26  \n",
       "B014E57GF8       Thank you DVD and activation code work great   2015-08-26  \n",
       "product_id                                        review_body  review_date  \n",
       "\n",
       "[341299 rows x 14 columns]"
      ]
     },
     "execution_count": 12,
     "metadata": {},
     "output_type": "execute_result"
    }
   ],
   "source": [
    "review_df"
   ]
  },
  {
   "cell_type": "code",
   "execution_count": 2,
   "id": "3d2852ca",
   "metadata": {
    "scrolled": true
   },
   "outputs": [],
   "source": [
    "import pickle\n"
   ]
  },
  {
   "cell_type": "code",
   "execution_count": null,
   "id": "4861750e",
   "metadata": {},
   "outputs": [],
   "source": [
    "review_df.columns"
   ]
  },
  {
   "cell_type": "code",
   "execution_count": 12,
   "id": "5b83a7b8",
   "metadata": {
    "scrolled": true
   },
   "outputs": [],
   "source": [
    "stop_words=spacy.lang.en.stop_words.STOP_WORDS\n",
    "def spacy_tok(text):\n",
    "#for i in range(1):\n",
    "    ''' Use Spacy library to perform processing and lemmentation.\n",
    "    '''\n",
    "    #remove digit\n",
    "    text=re.sub('\\w*\\d\\w*', ' ', text)\n",
    "    #remove punctuation\n",
    "    text=re.sub('[%s]' % re.escape(string.punctuation), ' ',text)\n",
    "#    parser=spacy.lang.en.English()\n",
    "    tokens=nlp(text)\n",
    "    tokens=[ word.lemma_.lower().strip() for word in tokens  ]\n",
    "    tokens=[ word  for word in tokens if (word not in stop_words) ]\n",
    "    return tokens "
   ]
  },
  {
   "cell_type": "code",
   "execution_count": null,
   "id": "a9de2410",
   "metadata": {},
   "outputs": [],
   "source": []
  },
  {
   "cell_type": "code",
   "execution_count": null,
   "id": "d2f091b8",
   "metadata": {},
   "outputs": [],
   "source": [
    "review_df.info()"
   ]
  },
  {
   "cell_type": "code",
   "execution_count": 19,
   "id": "399e7fe8",
   "metadata": {},
   "outputs": [],
   "source": [
    "example=review_df['review_body'].tolist()\n",
    "#tokenizer=CountVectorizer\n",
    "vectorizer=TfidfVectorizer"
   ]
  },
  {
   "cell_type": "code",
   "execution_count": 20,
   "id": "b11f5a1a",
   "metadata": {},
   "outputs": [
    {
     "data": {
      "text/plain": [
       "(341299, 27720)"
      ]
     },
     "execution_count": 20,
     "metadata": {},
     "output_type": "execute_result"
    }
   ],
   "source": [
    "result = vectorizer(tokenizer=spacy_tok, max_df=0.7, min_df=5,ngram_range=(1,2),lowercase=False)\n",
    "doc_word = result.fit_transform(example)\n",
    "doc_word.shape\n"
   ]
  },
  {
   "cell_type": "code",
   "execution_count": 22,
   "id": "36d6214f",
   "metadata": {},
   "outputs": [
    {
     "data": {
      "text/plain": [
       "(341299, 355365)"
      ]
     },
     "execution_count": 22,
     "metadata": {},
     "output_type": "execute_result"
    }
   ],
   "source": [
    "result = vectorizer(tokenizer=spacy_tok, max_df=0.7, min_df=5,ngram_range=(1,1),lowercase=False)\n",
    "doc_word = result.fit_transform(example)\n",
    "doc_word.shape"
   ]
  },
  {
   "cell_type": "code",
   "execution_count": 3,
   "id": "1f9cbabc",
   "metadata": {},
   "outputs": [],
   "source": [
    "#pickle.dump(doc_word,open('doc_term2.p','wb'))\n",
    "#pickle.dump(result,open('result2.p','wb'))\n",
    "doc_word=pickle.load(open('doc_term.p','rb'))\n",
    "doc_topic=pickle.load(open('topicnmf.p','rb'))"
   ]
  },
  {
   "cell_type": "code",
   "execution_count": 25,
   "id": "e64c837a",
   "metadata": {},
   "outputs": [],
   "source": [
    "lsa = TruncatedSVD(50)\n",
    "doc_topic = lsa.fit_transform(doc_word)\n",
    "pickle.dump(doc_topic,open('topiclsa.p','wb'))\n",
    "pickle.dump(lsa,open('modelsvd.p','wb'))"
   ]
  },
  {
   "cell_type": "code",
   "execution_count": 8,
   "id": "f757bb21",
   "metadata": {},
   "outputs": [
    {
     "name": "stderr",
     "output_type": "stream",
     "text": [
      "/home/lin/anaconda3/envs/metis/lib/python3.8/site-packages/sklearn/decomposition/_nmf.py:312: FutureWarning: The 'init' value, when 'init=None' and n_components is less than n_samples and n_features, will be changed from 'nndsvd' to 'nndsvda' in 1.1 (renaming of 0.26).\n",
      "  warnings.warn((\"The 'init' value, when 'init=None' and \"\n"
     ]
    }
   ],
   "source": [
    "lsa = NMF(50)\n",
    "doc_topic = lsa.fit_transform(doc_word)\n",
    "pickle.dump(doc_topic,open('topicnmf.p','wb'))\n",
    "pickle.dump(lsa,open('modelnmf.p','wb'))"
   ]
  },
  {
   "cell_type": "code",
   "execution_count": null,
   "id": "d382b2b9",
   "metadata": {},
   "outputs": [],
   "source": [
    "text=\"example[1] <br> <hj/> \\5 john89 text head we his our\"\n",
    "tokens=spacy_tok(text)\n",
    "tokens"
   ]
  },
  {
   "cell_type": "code",
   "execution_count": 13,
   "id": "4e1e4174",
   "metadata": {},
   "outputs": [],
   "source": [
    "result=pickle.load(open('result.p','rb'))"
   ]
  },
  {
   "cell_type": "code",
   "execution_count": 7,
   "id": "1c47a703",
   "metadata": {},
   "outputs": [
    {
     "data": {
      "text/plain": [
       "(341299, 50)"
      ]
     },
     "execution_count": 7,
     "metadata": {},
     "output_type": "execute_result"
    }
   ],
   "source": [
    "ddoc_topic.shape"
   ]
  },
  {
   "cell_type": "code",
   "execution_count": 14,
   "id": "ecd25b94",
   "metadata": {},
   "outputs": [],
   "source": [
    "def display_topics(model, feature_names, no_top_words, topic_names=None):\n",
    "    for ix, topic in enumerate(model.components_):\n",
    "        if not topic_names or not topic_names[ix]:\n",
    "            print(\"\\nTopic \", ix)\n",
    "        else:\n",
    "            print(\"\\nTopic: '\",topic_names[ix],\"'\")\n",
    "        print(\", \".join([feature_names[i]\n",
    "                        for i in topic.argsort()[:-no_top_words - 1:-1]]))"
   ]
  },
  {
   "cell_type": "code",
   "execution_count": 15,
   "id": "728d558f",
   "metadata": {},
   "outputs": [
    {
     "name": "stdout",
     "output_type": "stream",
     "text": [
      "\n",
      "Topic  0\n",
      "program, card, run, find, print, design, want\n",
      "\n",
      "Topic  1\n",
      "br, identify, review, screen, feature, course, start\n",
      "\n",
      "Topic  2\n",
      "great, deal, value, job, service, tool, protection\n",
      "\n",
      "Topic  3\n",
      "good, far, deal, job, value, pretty, condition\n",
      "\n",
      "Topic  4\n",
      "game, play, fun, enjoy, graphic, kid, puzzle\n",
      "\n",
      "Topic  5\n",
      "year, ve, ago, turbotax, past, change, taxis\n",
      "\n",
      "Topic  6\n",
      "work, fine, perfectly, advertise, doesn, didn, nt\n",
      "\n",
      "Topic  7\n",
      "security, internet, kaspersky, trend, micro, suite, pc\n",
      "\n",
      "Topic  8\n",
      "use, ve, simple, find, ease, difficult, continue\n",
      "\n",
      "Topic  9\n",
      "version, previous, early, update, late, trial, deluxe\n",
      "\n",
      "Topic  10\n",
      "product, key, satisfied, review, receive, seller, company\n",
      "\n",
      "Topic  11\n",
      "love, son, kid, daughter, gift, absolutely, wife\n",
      "\n",
      "Topic  12\n",
      "windows, xp, vista, run, microsoft, os, system\n",
      "\n",
      "Topic  13\n",
      "software, package, piece, company, design, look, come\n",
      "\n",
      "Topic  14\n",
      "t, don, didn, doesn, know, haven, win\n",
      "\n",
      "Topic  15\n",
      "easy, follow, understand, quick, taxis, set, navigate\n",
      "\n",
      "Topic  16\n",
      "need, exactly, business, meet, perfect, small, job\n",
      "\n",
      "Topic  17\n",
      "time, money, waste, save, worth, spend, long\n",
      "\n",
      "Topic  18\n",
      "computer, load, slow, run, protect, instal, crash\n",
      "\n",
      "Topic  19\n",
      "price, amazon, worth, right, reasonable, pay, low\n",
      "\n",
      "Topic  20\n",
      "thank, perfect, amazon, service, happy, delivery, condition\n",
      "\n",
      "Topic  21\n",
      "excellent, service, condition, value, tool, job, quality\n",
      "\n",
      "Topic  22\n",
      "quicken, account, transaction, bank, intuit, download, datum\n",
      "\n",
      "Topic  23\n",
      "like, look, thing, lot, feel, charm, change\n",
      "\n",
      "Topic  24\n",
      "office, microsoft, word, ms, home, excel, document\n",
      "\n",
      "Topic  25\n",
      "buy, amazon, cheap, want, nt, gift, copy\n",
      "\n",
      "Topic  26\n",
      "mac, pc, os, run, parallels, x, apple\n",
      "\n",
      "Topic  27\n",
      "tax, turbo, taxis, h, r, form, block\n",
      "\n",
      "Topic  28\n",
      "s, ve, m, ll, thing, think, d\n",
      "\n",
      "Topic  29\n",
      "learn, language, word, spanish, help, fun, lesson\n",
      "\n",
      "Topic  30\n",
      "problem, instal, fix, far, solve, fine, update\n",
      "\n",
      "Topic  31\n",
      "expect, exactly, arrive, come, perform, little, receive\n",
      "\n",
      "Topic  32\n",
      "upgrade, vista, xp, worth, os, pro, free\n",
      "\n",
      "Topic  33\n",
      "old, son, xp, kid, daughter, laptop, yr\n",
      "\n",
      "Topic  34\n",
      "video, dvd, movie, burn, edit, studio, vhs\n",
      "\n",
      "Topic  35\n",
      "ok, think, guess, slow, far, little, nt\n",
      "\n",
      "Topic  36\n",
      "purchase, happy, amazon, m, pleased, satisfied, card\n",
      "\n",
      "Topic  37\n",
      "recommend, highly, friend, definitely, business, family, small\n",
      "\n",
      "Topic  38\n",
      "turbotax, return, state, file, taxis, federal, h\n",
      "\n",
      "Topic  39\n",
      "norton, antivirus, symantec, renew, pc, subscription, protect\n",
      "\n",
      "Topic  40\n",
      "support, customer, service, try, tech, help, email\n",
      "\n",
      "Topic  41\n",
      "install, instal, try, update, installation, laptop, clean\n",
      "\n",
      "Topic  42\n",
      "virus, anti, protection, mcafee, scan, update, pc\n",
      "\n",
      "Topic  43\n",
      "photo, photoshop, adobe, elements, feature, tool, edit\n",
      "\n",
      "Topic  44\n",
      "window, vista, run, xp, nt, screen, laptop\n",
      "\n",
      "Topic  45\n",
      "user, friendly, business, quickbooks, interface, find, small\n",
      "\n",
      "Topic  46\n",
      "item, order, describe, receive, arrive, advertise, seller\n",
      "\n",
      "Topic  47\n",
      "drive, system, hard, backup, cd, disk, file\n",
      "\n",
      "Topic  48\n",
      "fast, shipping, delivery, run, ship, slow, quick\n",
      "\n",
      "Topic  49\n",
      "new, feature, update, laptop, brand, come, change\n"
     ]
    }
   ],
   "source": [
    "display_topics(lsa, result.get_feature_names(), 7)"
   ]
  },
  {
   "cell_type": "code",
   "execution_count": null,
   "id": "d7a0b1aa",
   "metadata": {},
   "outputs": [],
   "source": [
    "for i in "
   ]
  },
  {
   "cell_type": "code",
   "execution_count": 16,
   "id": "3e970206",
   "metadata": {},
   "outputs": [
    {
     "data": {
      "text/plain": [
       "{'analyzer': 'word',\n",
       " 'binary': False,\n",
       " 'decode_error': 'strict',\n",
       " 'dtype': numpy.float64,\n",
       " 'encoding': 'utf-8',\n",
       " 'input': 'content',\n",
       " 'lowercase': False,\n",
       " 'max_df': 0.7,\n",
       " 'max_features': None,\n",
       " 'min_df': 5,\n",
       " 'ngram_range': (1, 1),\n",
       " 'norm': 'l2',\n",
       " 'preprocessor': None,\n",
       " 'smooth_idf': True,\n",
       " 'stop_words': None,\n",
       " 'strip_accents': None,\n",
       " 'sublinear_tf': False,\n",
       " 'token_pattern': '(?u)\\\\b\\\\w\\\\w+\\\\b',\n",
       " 'tokenizer': <function __main__.spacy_tok(text)>,\n",
       " 'use_idf': True,\n",
       " 'vocabulary': None}"
      ]
     },
     "execution_count": 16,
     "metadata": {},
     "output_type": "execute_result"
    }
   ],
   "source": [
    "result.get_params()"
   ]
  },
  {
   "cell_type": "code",
   "execution_count": null,
   "id": "1c48a448",
   "metadata": {},
   "outputs": [],
   "source": [
    "print(chr(0x1a))"
   ]
  },
  {
   "cell_type": "code",
   "execution_count": null,
   "id": "c82b0f94",
   "metadata": {},
   "outputs": [],
   "source": [
    "pd.DataFrame(doc_word.toarray(), columns=result.get_feature_names()).head()"
   ]
  },
  {
   "cell_type": "code",
   "execution_count": 32,
   "id": "ca9934d3",
   "metadata": {},
   "outputs": [],
   "source": [
    "result2=pickle.load(open('result2.p','rb'))"
   ]
  },
  {
   "cell_type": "code",
   "execution_count": 33,
   "id": "00e833f1",
   "metadata": {},
   "outputs": [
    {
     "data": {
      "text/plain": [
       "{'analyzer': 'word',\n",
       " 'binary': False,\n",
       " 'decode_error': 'strict',\n",
       " 'dtype': numpy.float64,\n",
       " 'encoding': 'utf-8',\n",
       " 'input': 'content',\n",
       " 'lowercase': False,\n",
       " 'max_df': 0.7,\n",
       " 'max_features': None,\n",
       " 'min_df': 5,\n",
       " 'ngram_range': (1, 2),\n",
       " 'norm': 'l2',\n",
       " 'preprocessor': None,\n",
       " 'smooth_idf': True,\n",
       " 'stop_words': None,\n",
       " 'strip_accents': None,\n",
       " 'sublinear_tf': False,\n",
       " 'token_pattern': '(?u)\\\\b\\\\w\\\\w+\\\\b',\n",
       " 'tokenizer': <function __main__.spacy_tok(text)>,\n",
       " 'use_idf': True,\n",
       " 'vocabulary': None}"
      ]
     },
     "execution_count": 33,
     "metadata": {},
     "output_type": "execute_result"
    }
   ],
   "source": [
    "result2.get_params()"
   ]
  },
  {
   "cell_type": "code",
   "execution_count": null,
   "id": "58a36904",
   "metadata": {},
   "outputs": [],
   "source": []
  }
 ],
 "metadata": {
  "kernelspec": {
   "display_name": "Python [conda env:metis] *",
   "language": "python",
   "name": "conda-env-metis-py"
  },
  "language_info": {
   "codemirror_mode": {
    "name": "ipython",
    "version": 3
   },
   "file_extension": ".py",
   "mimetype": "text/x-python",
   "name": "python",
   "nbconvert_exporter": "python",
   "pygments_lexer": "ipython3",
   "version": "3.8.10"
  }
 },
 "nbformat": 4,
 "nbformat_minor": 5
}
